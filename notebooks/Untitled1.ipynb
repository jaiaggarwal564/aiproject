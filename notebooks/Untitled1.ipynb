{
 "cells": [
  {
   "cell_type": "code",
   "execution_count": 4,
   "id": "3c35a01f-af5e-498c-be83-8187313e05cf",
   "metadata": {},
   "outputs": [
    {
     "name": "stdout",
     "output_type": "stream",
     "text": [
      "Datasets reloaded ✅\n"
     ]
    }
   ],
   "source": [
    "import pandas as pd\n",
    "\n",
    "train = pd.read_csv(\"../data/train_dataset.csv\")\n",
    "val = pd.read_csv(\"../data/validation_dataset.csv\")\n",
    "test = pd.read_csv(\"../data/test_dataset.csv\")\n",
    "print(\"Datasets reloaded ✅\")\n"
   ]
  },
  {
   "cell_type": "code",
   "execution_count": 5,
   "id": "cfb3aed6-e5c0-4239-a8b6-ffa6760e2b06",
   "metadata": {},
   "outputs": [
    {
     "name": "stdout",
     "output_type": "stream",
     "text": [
      "Feature sets rebuilt ✅\n"
     ]
    }
   ],
   "source": [
    "# Amino acid composition\n",
    "AMINO_ACIDS = list(\"ACDEFGHIKLMNPQRSTVWY\")\n",
    "\n",
    "def aa_composition(seq):\n",
    "    counts = {aa: 0 for aa in AMINO_ACIDS}\n",
    "    for aa in seq:\n",
    "        if aa in counts:\n",
    "            counts[aa] += 1\n",
    "    length = len(seq)\n",
    "    return {aa: counts[aa] / length for aa in AMINO_ACIDS}\n",
    "\n",
    "# Hydrophobicity scale\n",
    "hydropathy = {\n",
    "    'A': 1.8,  'C': 2.5,  'D': -3.5, 'E': -3.5, 'F': 2.8,\n",
    "    'G': -0.4, 'H': -3.2, 'I': 4.5,  'K': -3.9, 'L': 3.8,\n",
    "    'M': 1.9,  'N': -3.5, 'P': -1.6, 'Q': -3.5, 'R': -4.5,\n",
    "    'S': -0.8, 'T': -0.7, 'V': 4.2,  'W': -0.9, 'Y': -1.3\n",
    "}\n",
    "\n",
    "def add_physchem_features(df):\n",
    "    df = df.copy()\n",
    "    df['seq_length'] = df['sequence'].str.len()\n",
    "    df['hydrophobicity'] = df['sequence'].apply(lambda s: sum(hydropathy.get(aa,0) for aa in s) / len(s))\n",
    "    df['aromatic_fraction'] = df['sequence'].apply(lambda s: sum(s.count(aa) for aa in \"FWY\") / len(s))\n",
    "    return df\n",
    "\n",
    "def build_full_features(seq_df, feats_df):\n",
    "    aa_feats = seq_df['sequence'].apply(aa_composition).apply(pd.Series)\n",
    "    aa_feats['seq_length'] = feats_df['seq_length']\n",
    "    aa_feats['hydrophobicity'] = feats_df['hydrophobicity']\n",
    "    aa_feats['aromatic_fraction'] = feats_df['aromatic_fraction']\n",
    "    aa_feats['label'] = seq_df['label']\n",
    "    return aa_feats\n",
    "\n",
    "# Build features\n",
    "train_extra = add_physchem_features(train)\n",
    "val_extra   = add_physchem_features(val)\n",
    "test_extra  = add_physchem_features(test)\n",
    "\n",
    "train_full = build_full_features(train, train_extra)\n",
    "val_full   = build_full_features(val, val_extra)\n",
    "test_full  = build_full_features(test, test_extra)\n",
    "\n",
    "print(\"Feature sets rebuilt ✅\")\n"
   ]
  },
  {
   "cell_type": "code",
   "execution_count": 6,
   "id": "ad39d2d2-e2b5-423a-a950-92a205d77ba5",
   "metadata": {},
   "outputs": [
    {
     "name": "stdout",
     "output_type": "stream",
     "text": [
      "Model retrained successfully ✅\n"
     ]
    }
   ],
   "source": [
    "from xgboost import XGBClassifier\n",
    "\n",
    "# Prepare data again\n",
    "X_train = train_full.drop(columns=['label'])\n",
    "y_train = train_full['label'].map({'Soluble':1, 'Insoluble':0})\n",
    "\n",
    "X_test = test_full.drop(columns=['label'])\n",
    "y_test = test_full['label'].map({'Soluble':1, 'Insoluble':0})\n",
    "\n",
    "# Retrain the final model\n",
    "xgb2 = XGBClassifier(\n",
    "    n_estimators=600,\n",
    "    learning_rate=0.05,\n",
    "    max_depth=6,\n",
    "    subsample=0.8,\n",
    "    colsample_bytree=0.8,\n",
    "    scale_pos_weight=(len(y_train)-sum(y_train))/sum(y_train),\n",
    "    random_state=42,\n",
    "    n_jobs=-1,\n",
    "    eval_metric=\"logloss\"\n",
    ")\n",
    "\n",
    "xgb2.fit(X_train, y_train)\n",
    "print(\"Model retrained successfully ✅\")\n"
   ]
  },
  {
   "cell_type": "code",
   "execution_count": 7,
   "id": "55f401ea-4b84-4ac0-a225-ca50559109c1",
   "metadata": {},
   "outputs": [
    {
     "name": "stdout",
     "output_type": "stream",
     "text": [
      "Saved model -> ../models/xgb2_solubility.joblib\n",
      "Saved feature columns -> ../models/feature_cols.json\n"
     ]
    }
   ],
   "source": [
    "import joblib\n",
    "import json\n",
    "from pathlib import Path\n",
    "\n",
    "Path(\"../models\").mkdir(parents=True, exist_ok=True)\n",
    "\n",
    "joblib.dump(xgb2, \"../models/xgb2_solubility.joblib\")\n",
    "print(\"Saved model -> ../models/xgb2_solubility.joblib\")\n",
    "\n",
    "feature_cols = list(X_train.columns)\n",
    "with open(\"../models/feature_cols.json\", \"w\") as f:\n",
    "    json.dump(feature_cols, f)\n",
    "print(\"Saved feature columns -> ../models/feature_cols.json\")\n"
   ]
  },
  {
   "cell_type": "code",
   "execution_count": null,
   "id": "89029054-5bf6-41cb-b06b-9997360cc244",
   "metadata": {},
   "outputs": [],
   "source": []
  }
 ],
 "metadata": {
  "kernelspec": {
   "display_name": "Python 3 (ipykernel)",
   "language": "python",
   "name": "python3"
  },
  "language_info": {
   "codemirror_mode": {
    "name": "ipython",
    "version": 3
   },
   "file_extension": ".py",
   "mimetype": "text/x-python",
   "name": "python",
   "nbconvert_exporter": "python",
   "pygments_lexer": "ipython3",
   "version": "3.13.5"
  }
 },
 "nbformat": 4,
 "nbformat_minor": 5
}
